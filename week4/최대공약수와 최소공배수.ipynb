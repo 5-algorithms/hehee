{
 "cells": [
  {
   "cell_type": "code",
   "execution_count": null,
   "metadata": {},
   "outputs": [],
   "source": [
    "def solution(n, m):\n",
    "    answer=[]\n",
    "    for i in range(min(n, m), 0, -1):\n",
    "        if n%i==0 and m%i==0:\n",
    "            answer.append(i)\n",
    "            break\n",
    "    for i in range(max(n, m), (n*m)+1):\n",
    "        if i%n==0 and i%m==0:\n",
    "            answer.append(i)\n",
    "            break\n",
    "    return answer"
   ]
  }
 ],
 "metadata": {
  "kernelspec": {
   "display_name": "conda",
   "language": "python",
   "name": "conda"
  },
  "language_info": {
   "name": "python",
   "version": "3.8.3"
  },
  "orig_nbformat": 4
 },
 "nbformat": 4,
 "nbformat_minor": 2
}
