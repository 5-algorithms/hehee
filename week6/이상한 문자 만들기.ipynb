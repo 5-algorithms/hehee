{
 "cells": [
  {
   "cell_type": "code",
   "execution_count": null,
   "metadata": {},
   "outputs": [],
   "source": [
    "def solution(s):\n",
    "    s = s.split(\" \")\n",
    "    for k in range(len(s)):\n",
    "        s_split = list(s[k])\n",
    "        for i in range(len(s_split)):\n",
    "            if i%2 == 1:\n",
    "                s_split[i] = s_split[i].lower()\n",
    "            else:\n",
    "                s_split[i] = s_split[i].upper()\n",
    "        s[k] = \"\".join(s_split)\n",
    "            \n",
    "        answer = ' '.join(s)\n",
    "    return answer"
   ]
  }
 ],
 "metadata": {
  "language_info": {
   "name": "python"
  },
  "orig_nbformat": 4
 },
 "nbformat": 4,
 "nbformat_minor": 2
}
