{
 "cells": [
  {
   "cell_type": "code",
   "execution_count": null,
   "metadata": {},
   "outputs": [],
   "source": [
    "def solution(answers):\n",
    "    answer = []\n",
    "    m1 = [1,2,3,4,5]\n",
    "    m2 = [2,1,2,3,2,4,2,5]\n",
    "    m3 = [3,3,1,1,2,2,4,4,5,5]\n",
    "    count = [0, 0, 0]\n",
    "    \n",
    "    for i in range(len(answers)):\n",
    "        if answers[i] == m1[i%5]:\n",
    "            count[0] += 1\n",
    "        \n",
    "        if answers[i] == m2[i%8]:\n",
    "            count[1] += 1\n",
    "            \n",
    "        if answers[i] == m3[i%10]:\n",
    "            count[2] += 1\n",
    "\n",
    "    for i in range(3):\n",
    "        if count[i] == max(count):\n",
    "            answer.append(i+1)\n",
    "    return answer"
   ]
  }
 ],
 "metadata": {
  "language_info": {
   "name": "python"
  },
  "orig_nbformat": 4
 },
 "nbformat": 4,
 "nbformat_minor": 2
}
