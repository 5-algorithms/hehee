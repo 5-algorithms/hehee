{
 "cells": [
  {
   "cell_type": "code",
   "execution_count": null,
   "metadata": {},
   "outputs": [],
   "source": [
    "def solution(N, stages):\n",
    "    answer = {}\n",
    "    challenge = len(stages)\n",
    "    \n",
    "    for stage in range(1, N+1):\n",
    "        if challenge != 0:\n",
    "            count = stages.count(stage)\n",
    "            answer[stage] = count/challenge\n",
    "            challenge -= count\n",
    "        else:\n",
    "            answer[stage] = 0\n",
    "    \n",
    "    return sorted(answer, key=lambda x:answer[x], reverse=True)"
   ]
  }
 ],
 "metadata": {
  "language_info": {
   "name": "python"
  },
  "orig_nbformat": 4
 },
 "nbformat": 4,
 "nbformat_minor": 2
}
