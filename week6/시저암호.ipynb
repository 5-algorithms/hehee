{
 "cells": [
  {
   "cell_type": "code",
   "execution_count": null,
   "metadata": {},
   "outputs": [],
   "source": [
    "def solution(s, n):\n",
    "    s = list(s)\n",
    "    for i in range(len(s)):\n",
    "        if s[i].isupper():\n",
    "            s[i]=chr((ord(s[i])-ord('A')+n)%26+ord('A'))\n",
    "        elif s[i].islower():\n",
    "            s[i]=chr((ord(s[i])-ord('a')+n)%26+ord('a'))\n",
    "    answer = ''.join(s)\n",
    "    return answer"
   ]
  }
 ],
 "metadata": {
  "language_info": {
   "name": "python"
  },
  "orig_nbformat": 4
 },
 "nbformat": 4,
 "nbformat_minor": 2
}
