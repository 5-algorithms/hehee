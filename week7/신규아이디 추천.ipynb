{
 "cells": [
  {
   "cell_type": "code",
   "execution_count": null,
   "metadata": {},
   "outputs": [],
   "source": [
    "def solution(new_id):\n",
    "    answer = ''\n",
    "    new_id = new_id.lower()\n",
    "    \n",
    "    for id in new_id:\n",
    "        if id.islower() or id.isdigit() or id in [\"-\", \"_\", \".\"]:\n",
    "            answer += id\n",
    "            \n",
    "    while '..' in answer:\n",
    "        answer = answer.replace('..', '.')\n",
    "        \n",
    "    if answer[0] == '.' and len(answer) >= 2:\n",
    "        answer = answer[1:]\n",
    "    if '.' == answer[-1]:\n",
    "        answer = answer[:-1]\n",
    "        \n",
    "    if answer == '':\n",
    "        answer = 'a'\n",
    "        \n",
    "    if len(answer) >= 16:\n",
    "        answer = answer[:15]\n",
    "        if answer[-1] == '.':\n",
    "            answer = answer[:-1]\n",
    "            \n",
    "    while len(answer) < 3:\n",
    "        answer += answer[-1]\n",
    "\n",
    "    return answer"
   ]
  }
 ],
 "metadata": {
  "language_info": {
   "name": "python"
  },
  "orig_nbformat": 4
 },
 "nbformat": 4,
 "nbformat_minor": 2
}
