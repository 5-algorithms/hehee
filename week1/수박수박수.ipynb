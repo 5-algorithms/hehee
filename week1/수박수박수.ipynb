{
 "cells": [
  {
   "cell_type": "code",
   "execution_count": null,
   "metadata": {},
   "outputs": [],
   "source": [
    "def solution(n):\n",
    "    answer = ''\n",
    "    if n%2 == 0:\n",
    "        answer = (\"수박\"*(n/2))\n",
    "    else:\n",
    "        answer = (\"수박\"*(n/2) + \"수\")\n",
    "    return answer"
   ]
  }
 ],
 "metadata": {
  "language_info": {
   "name": "python"
  },
  "orig_nbformat": 4
 },
 "nbformat": 4,
 "nbformat_minor": 2
}
