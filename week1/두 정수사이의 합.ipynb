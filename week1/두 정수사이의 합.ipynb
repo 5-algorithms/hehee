{
 "cells": [
  {
   "cell_type": "code",
   "execution_count": null,
   "metadata": {},
   "outputs": [],
   "source": [
    "def solution(a, b):\n",
    "    answer=0\n",
    "    if a==b:\n",
    "        answer=a or b\n",
    "    else:\n",
    "        for i in range(min(a,b), max(a,b)+1):\n",
    "            answer+=i\n",
    "    return answer"
   ]
  }
 ],
 "metadata": {
  "language_info": {
   "name": "python"
  },
  "orig_nbformat": 4
 },
 "nbformat": 4,
 "nbformat_minor": 2
}
