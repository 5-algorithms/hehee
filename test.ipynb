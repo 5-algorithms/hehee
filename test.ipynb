{
 "cells": [
  {
   "cell_type": "code",
   "execution_count": null,
   "metadata": {},
   "outputs": [],
   "source": [
    "# This is Test 깃헙 평생 써도 모를 자식..\n",
    "# 이제 조금 알것같기두..ㅎㅎ\n",
    "# 깃허브랑 연애하는중 막이래~ㅋ"
   ]
  }
 ],
 "metadata": {
  "language_info": {
   "name": "python"
  },
  "orig_nbformat": 4
 },
 "nbformat": 4,
 "nbformat_minor": 2
}
