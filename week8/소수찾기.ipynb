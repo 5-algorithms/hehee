{
 "cells": [
  {
   "cell_type": "code",
   "execution_count": null,
   "metadata": {},
   "outputs": [],
   "source": [
    "from itertools import permutations\n",
    "\n",
    "def solution(numbers):\n",
    "    answer = 0\n",
    "    case = makeCase(numbers)\n",
    "    for n in case:\n",
    "        if isPrime(n): answer += 1\n",
    "\n",
    "    return answer\n",
    "\n",
    "def makeCase(numbers):\n",
    "    result = []\n",
    "    for i in range(1, len(numbers)+1):\n",
    "        result.extend(list(map(int, map(''.join, permutations(numbers, i)))))\n",
    "    result = list(filter(lambda x: x > 1, list(set(result))))\n",
    "    \n",
    "    return result\n",
    "\n",
    "def isPrime(n):\n",
    "    for i in range(2, int(n ** 0.5) + 1):\n",
    "        if n % i == 0: return False\n",
    "    return True"
   ]
  }
 ],
 "metadata": {
  "kernelspec": {
   "display_name": "conda",
   "language": "python",
   "name": "conda"
  },
  "language_info": {
   "name": "python",
   "version": "3.8.3"
  },
  "orig_nbformat": 4
 },
 "nbformat": 4,
 "nbformat_minor": 2
}
