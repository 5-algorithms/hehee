{
 "cells": [
  {
   "cell_type": "code",
   "execution_count": null,
   "metadata": {},
   "outputs": [],
   "source": [
    "def solution(n):\n",
    "    answer = [] \n",
    "    def hanoi(n, start, end, assist):\n",
    "        nonlocal answer\n",
    "        if n == 1: \n",
    "            answer.append([start, end])\n",
    "            return\n",
    "        hanoi(n-1, start, assist, end) \n",
    "        answer.append([start, end])\n",
    "        hanoi(n-1, assist, end, start) \n",
    "    hanoi(n, 1, 3, 2) \n",
    "    return answer"
   ]
  }
 ],
 "metadata": {
  "kernelspec": {
   "display_name": "conda",
   "language": "python",
   "name": "conda"
  },
  "language_info": {
   "name": "python",
   "version": "3.8.3"
  },
  "orig_nbformat": 4
 },
 "nbformat": 4,
 "nbformat_minor": 2
}
