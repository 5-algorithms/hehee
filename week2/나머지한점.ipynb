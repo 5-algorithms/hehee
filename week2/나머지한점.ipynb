{
 "cells": [
  {
   "cell_type": "code",
   "execution_count": null,
   "metadata": {},
   "outputs": [],
   "source": [
    "def solution(v):\n",
    "    answer = []\n",
    "    x = []\n",
    "    y = []\n",
    "    \n",
    "    for i in v:\n",
    "        if i[0] not in x:\n",
    "            x.append(i[0])\n",
    "        else:\n",
    "            x.remove(i[0])\n",
    "        if i[1] not in y:\n",
    "            y.append(i[1])\n",
    "        else:\n",
    "            y.remove(i[1])\n",
    "    answer = x + y\n",
    "\n",
    "    return answer"
   ]
  }
 ],
 "metadata": {
  "language_info": {
   "name": "python"
  },
  "orig_nbformat": 4
 },
 "nbformat": 4,
 "nbformat_minor": 2
}
