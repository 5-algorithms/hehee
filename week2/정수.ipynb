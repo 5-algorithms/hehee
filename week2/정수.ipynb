{
 "cells": [
  {
   "cell_type": "code",
   "execution_count": null,
   "metadata": {},
   "outputs": [],
   "source": [
    "def solution(num):\n",
    "    if num % 2 == 0:\n",
    "        answer = \"Even\"\n",
    "    else:\n",
    "        answer = \"Odd\"\n",
    "    return answer"
   ]
  },
  {
   "cell_type": "code",
   "execution_count": null,
   "metadata": {},
   "outputs": [],
   "source": [
    "def solution(n):\n",
    "    answer = sum(map(int, str(n)))\n",
    "        \n",
    "    # [실행] 버튼을 누르면 출력 값을 볼 수 있습니다.\n",
    "\n",
    "    return answer"
   ]
  }
 ],
 "metadata": {
  "language_info": {
   "name": "python"
  },
  "orig_nbformat": 4
 },
 "nbformat": 4,
 "nbformat_minor": 2
}
