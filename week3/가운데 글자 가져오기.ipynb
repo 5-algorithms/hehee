{
 "cells": [
  {
   "cell_type": "code",
   "execution_count": null,
   "metadata": {},
   "outputs": [],
   "source": [
    "def solution(s):\n",
    "    answer = ''\n",
    "    n = len(s)//2\n",
    "    if len(s) % 2 == 0:\n",
    "        answer = s[n-1 : n+1]\n",
    "    else:\n",
    "        answer = s[n]\n",
    "    return answer"
   ]
  }
 ],
 "metadata": {
  "language_info": {
   "name": "python"
  },
  "orig_nbformat": 4
 },
 "nbformat": 4,
 "nbformat_minor": 2
}
