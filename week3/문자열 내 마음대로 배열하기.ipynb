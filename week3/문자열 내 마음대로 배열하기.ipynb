{
 "cells": [
  {
   "cell_type": "code",
   "execution_count": null,
   "metadata": {},
   "outputs": [],
   "source": [
    "def solution(strings, n):\n",
    "    str = []\n",
    "    for i in strings:\n",
    "        str.append(i[n]+i)\n",
    "    str.sort()\n",
    "    \n",
    "    answer = []\n",
    "    for i in str:\n",
    "        answer.append(i[1:])\n",
    "    \n",
    "    return answer"
   ]
  }
 ],
 "metadata": {
  "language_info": {
   "name": "python"
  },
  "orig_nbformat": 4
 },
 "nbformat": 4,
 "nbformat_minor": 2
}
