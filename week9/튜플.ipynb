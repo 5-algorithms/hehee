{
 "cells": [
  {
   "cell_type": "code",
   "execution_count": null,
   "metadata": {},
   "outputs": [],
   "source": [
    "def solution(s):\n",
    "    answer = []\n",
    "    s = s[2:-2]\n",
    "    s = s.split(\"},{\")\n",
    "    s.sort(key = len)\n",
    "    for i in s:\n",
    "        ii = i.split(',')\n",
    "        for j in ii:\n",
    "            if int(j) not in answer:\n",
    "                answer.append(int(j))\n",
    "    return answer"
   ]
  }
 ],
 "metadata": {
  "kernelspec": {
   "display_name": "conda",
   "language": "python",
   "name": "conda"
  },
  "language_info": {
   "name": "python",
   "version": "3.8.3"
  },
  "orig_nbformat": 4
 },
 "nbformat": 4,
 "nbformat_minor": 2
}
