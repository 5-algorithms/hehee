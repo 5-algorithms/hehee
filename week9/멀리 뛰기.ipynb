{
 "cells": [
  {
   "cell_type": "code",
   "execution_count": null,
   "metadata": {},
   "outputs": [],
   "source": [
    "def solution(n):\n",
    "    a, b = 1, 2\n",
    "    if n == 1:\n",
    "        return 1\n",
    "    for i in range(2,n):\n",
    "        a, b = b, a+b\n",
    "    return b % 1234567"
   ]
  }
 ],
 "metadata": {
  "kernelspec": {
   "display_name": "conda",
   "language": "python",
   "name": "conda"
  },
  "language_info": {
   "name": "python",
   "version": "3.8.3"
  },
  "orig_nbformat": 4
 },
 "nbformat": 4,
 "nbformat_minor": 2
}
